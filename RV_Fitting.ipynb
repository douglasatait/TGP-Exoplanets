{
 "cells": [
  {
   "cell_type": "markdown",
   "metadata": {},
   "source": [
    "## Notebook used to fit a curve to radial velocity data"
   ]
  },
  {
   "cell_type": "code",
   "execution_count": 177,
   "metadata": {},
   "outputs": [],
   "source": [
    "\"\"\"\n",
    "Inital Imports\n",
    "\"\"\"\n",
    "\n",
    "import matplotlib.pyplot as plt\n",
    "import pandas as pd\n",
    "import numpy as np\n",
    "from scipy.optimize import curve_fit\n",
    "from matplotlib.ticker import (MultipleLocator, FormatStrFormatter, AutoMinorLocator)\n",
    "import matplotlib.ticker as ticker\n",
    "import mpld3\n",
    "# mpld3.enable_notebook()"
   ]
  },
  {
   "cell_type": "code",
   "execution_count": 178,
   "metadata": {},
   "outputs": [],
   "source": [
    "\"\"\"\n",
    "Read in the data and convert to numpy\n",
    "\"\"\"\n",
    "\n",
    "data = pd.read_csv('wasp2b_radialvelocity.csv')\n",
    "time_wasp = data['Obs_Date'].to_numpy()\n",
    "time_wasp = time_wasp - 2450000\n",
    "vel_wasp = data['Velocity'].to_numpy()\n",
    "vel_err_wasp = data['Error'].to_numpy()"
   ]
  },
  {
   "cell_type": "code",
   "execution_count": 179,
   "metadata": {},
   "outputs": [],
   "source": [
    "\"\"\"\n",
    "Define Constants\n",
    "\"\"\"\n",
    "\n",
    "mass_sun = 1.989e30\n",
    "radius_sun = 6.960e8\n",
    "G = 6.67e-11\n",
    "au = 1.496e11\n",
    "alpha = np.power(G/(4*np.power(np.pi, 2)), (1/3))\n",
    "\n",
    "wasp_mass = 0.79 * mass_sun\n",
    "wasp_mass_err_pos = 0.15 * mass_sun\n",
    "wasp_mass_err_neg = 0.04 * mass_sun\n",
    "\n",
    "incl = 84.4\n",
    "incl_err = 0.4\n",
    "\n",
    "transit_time = 2453991.5146 - 2450000\n",
    "\n",
    "guess_freq = 3\n",
    "guess_amplitude = (np.max(vel_wasp) - np.mean(vel_wasp)) \n",
    "guess_phase = 0\n",
    "guess_offset = np.mean(vel_wasp)\n",
    "guess = [guess_freq, guess_amplitude, guess_phase, guess_offset]"
   ]
  },
  {
   "cell_type": "code",
   "execution_count": 180,
   "metadata": {},
   "outputs": [],
   "source": [
    "def my_sin(x, freq, amplitude, phase, offset):\n",
    "    \n",
    "    return np.sin((x * freq) + phase) * amplitude + offset"
   ]
  },
  {
   "cell_type": "code",
   "execution_count": 181,
   "metadata": {},
   "outputs": [],
   "source": [
    "def func_fitter(time, rad_vel, err, guess):\n",
    "\n",
    "    # Initial guesses\n",
    "    p0=[*guess]\n",
    "\n",
    "    # now do the fit\n",
    "    fit, pcov = curve_fit(my_sin, time, rad_vel, p0=p0, sigma=err, bounds=([0,-np.inf,0,-np.inf],[np.inf,np.inf,360,np.inf]))\n",
    "\n",
    "    return fit, pcov"
   ]
  },
  {
   "cell_type": "code",
   "execution_count": 207,
   "metadata": {},
   "outputs": [],
   "source": [
    "def chisquared(fit, time):\n",
    "    \"\"\"\n",
    "    Function to return chi squared and reduced chi squared \n",
    "    \"\"\"\n",
    "    phase = fit[0]\n",
    "    chisq = np.sum(np.power((vel_wasp - my_sin(time, *fit)), 2)/np.power(vel_err_wasp, 2))\n",
    "    rchisq = chisq/(len(vel_wasp)-4)\n",
    "\n",
    "    \n",
    "    return chisq, rchisq"
   ]
  },
  {
   "cell_type": "code",
   "execution_count": 186,
   "metadata": {},
   "outputs": [],
   "source": [
    "def radvelparams(fit, pcov):\n",
    "    \"\"\"\n",
    "    Calculate and return Planetary Properties and their errors\n",
    "    # params - [0]=freq, [1]=period_sec, [2]=star_vel, \n",
    "               [3]=semi_m_a, [4]=min_planet_mass, [5]=true_planet_mass\n",
    "    \n",
    "\n",
    "    # errors - [0]=freq_err, [1]=period_sec_err, [2]=star_vel_err, \n",
    "               [3]=semi_m_a_err_pos, [4]=semi_m_a_err_neg, [5]=min_planet_mass_err, \n",
    "               [6]=true_planet_mass_err\n",
    "    \"\"\"\n",
    "    \n",
    "    perr = np.sqrt(np.diag(pcov))\n",
    "    \n",
    "    freq = fit[0] / (2 * np.pi)\n",
    "    freq_err = perr[0]\n",
    "    freq_err1 = (perr[0] / fit[0]) * freq\n",
    "    \n",
    "    star_vel = fit[1] * 1e3\n",
    "    star_vel_err = perr[1] * 1e3\n",
    "    \n",
    "    period_day = 1 / freq\n",
    "    period_sec = period_day * 24 * 3600\n",
    "    period_day_err = period_day * (perr[0] / fit[0])\n",
    "    period_sec_err = period_day_err * 24 * 3600\n",
    "\n",
    "    semi_m_a = np.power((G * np.power(period_sec, 2) * wasp_mass) / (4 * np.power(np.pi, 2)), 1/3)  \n",
    "    semi_m_a_err1 = np.power(period_sec_err, 2) * np.power((2/3) * alpha * np.power(wasp_mass, (1/3)) * np.power(period_sec, (-1/3)), 2)\n",
    "    semi_m_a_err2 = np.power(wasp_mass_err_pos, 2) * np.power((1/3) * alpha * np.power(wasp_mass, (-2/3)) * np.power(period_sec, (2/3)), 2)\n",
    "    semi_m_a_err3 = np.power(wasp_mass_err_neg, 2) * np.power((1/3) * alpha * np.power(wasp_mass, (-2/3)) * np.power(period_sec, (2/3)), 2)\n",
    "    semi_m_a_err_pos = np.sqrt(semi_m_a_err1 + semi_m_a_err2)\n",
    "    semi_m_a_err_neg = np.sqrt(semi_m_a_err1 + semi_m_a_err3)\n",
    "\n",
    "    min_planet_mass = (wasp_mass * star_vel * period_sec) / (2 * np.pi * semi_m_a)\n",
    "    min_planet_mass_err_1 = np.power((wasp_mass_err_pos), 2) * np.power((star_vel * period_sec) / (2 * np.pi * semi_m_a), 2)\n",
    "    min_planet_mass_err_2 = np.power((perr[1]), 2) * np.power((wasp_mass * period_sec) / (2 * np.pi * semi_m_a), 2)\n",
    "    min_planet_mass_err_3 = np.power(period_sec_err, 2) * np.power((wasp_mass * star_vel) / (2 * np.pi * semi_m_a), 2)\n",
    "    min_planet_mass_err_4 = np.power(semi_m_a_err_pos, 2) * np.power((wasp_mass * star_vel * period_sec) / (2 * np.pi * np.power(semi_m_a, 2)), 2)\n",
    "    min_planet_mass_err = np.sqrt(min_planet_mass_err_1 + min_planet_mass_err_2 + min_planet_mass_err_3 + min_planet_mass_err_4)            \n",
    "    \n",
    "    true_planet_mass = min_planet_mass / np.sin(incl * (np.pi/180))\n",
    "    true_planet_mass_err = np.sqrt(np.power(incl_err, 2) * np.power((min_planet_mass * (1/np.tan(incl*(np.pi/180)))*(1/np.sin(incl*(np.pi/180)))), 2))\n",
    "    \n",
    "    \n",
    "    params = np.array([freq, period_sec, star_vel, semi_m_a, min_planet_mass, true_planet_mass])\n",
    "    errors = np.array([freq_err, period_sec_err, star_vel, semi_m_a_err_pos, semi_m_a_err_neg, min_planet_mass_err, true_planet_mass_err])\n",
    "    \n",
    "    \n",
    "    return params, errors"
   ]
  },
  {
   "cell_type": "code",
   "execution_count": 187,
   "metadata": {},
   "outputs": [],
   "source": [
    "\"\"\"\n",
    "Plotting the Radial Velocity Curve Fit and the Photometric Curve Fit\n",
    "\"\"\"\n",
    "\n",
    "def plotting(xdata1, xdata2, ydata1, ydata2):\n",
    "    plt.rcParams[\"font.family\"] = \"serif\"\n",
    "    fig, (ax1, ax2) = plt.subplots(2, sharex=False)\n",
    "\n",
    "    ax1.xaxis.set_minor_locator(AutoMinorLocator())\n",
    "    ax1.yaxis.set_minor_locator(AutoMinorLocator())\n",
    "    ax1.tick_params(which='major', direction='in', length=6, width=2, colors='black', top=True, right=True)\n",
    "    ax1.tick_params(which='minor', direction='in', length=4, top=True, right=True)\n",
    "\n",
    "    ax2.xaxis.set_minor_locator(AutoMinorLocator())\n",
    "    ax2.yaxis.set_minor_locator(AutoMinorLocator())\n",
    "    ax2.tick_params(which='major', direction='in', length=6, width=2, colors='black', top=True, right=True)\n",
    "    ax2.tick_params(which='minor', direction='in', length=4, top=True, right=True)\n",
    "\n",
    "    fig.suptitle('WASP-2: Radial Velocity Curve Fit')\n",
    "    ax1.errorbar(time_wasp, vel_wasp, yerr=vel_err_wasp, fmt='o', ms=7.5, label='Radial Velocity Data', ecolor='k', marker='x', mew=1.5)\n",
    "    ax1.plot(xdata1, ydata1, label='Fitted Curve', color='darkorange')\n",
    "    ax1.set_xlabel(r\"Barycentric JD$ - 2450000.0$\")\n",
    "    ax1.set_ylabel(r\"Radial Velocity \" +'\\n' r\"$[kms^{-1}]$\")\n",
    "\n",
    "    ax2.errorbar(photophase, vel_wasp, yerr=vel_err_wasp, fmt='o', ms=7.5, label='Radial Velocity Data', ecolor='k', marker='x', mew=1.5)\n",
    "    ax2.plot(xdata2, ydata2, label='Fitted Curve', color='darkorange')\n",
    "    ax2.set_xlabel(\"Photometric Phase\")\n",
    "    ax2.set_ylabel(r\"Radial Velocity \" + '\\n' r\"$[kms^{-1}]$\")\n",
    "    fig.tight_layout()\n",
    "    # plt.savefig('rad_vel_fit_phase.png')\n",
    "    plt.show()"
   ]
  },
  {
   "cell_type": "code",
   "execution_count": 202,
   "metadata": {},
   "outputs": [],
   "source": [
    "\"\"\"\n",
    "Plotting the Residuals of the Radial Velocity Curve Fit\n",
    "\"\"\"\n",
    "\n",
    "def plotting_residuals(xdata1, xdata2, ydata1, ydata2):\n",
    "    fig, (ax1, ax2) = plt.subplots(2, sharex=True)\n",
    "\n",
    "    ax1.xaxis.set_minor_locator(AutoMinorLocator())\n",
    "    ax1.yaxis.set_minor_locator(AutoMinorLocator())\n",
    "    ax1.tick_params(which='major', direction='in', length=6, width=2, colors='black', top=True, right=True)\n",
    "    ax1.tick_params(which='minor', direction='in', length=4, top=True, right=True)\n",
    "\n",
    "    ax2.xaxis.set_minor_locator(AutoMinorLocator())\n",
    "    ax2.yaxis.set_minor_locator(AutoMinorLocator())\n",
    "    ax2.tick_params(which='major', direction='in', length=6, width=2, colors='black', top=True, right=True)\n",
    "    ax2.tick_params(which='minor', direction='in', length=4, top=True, right=True)\n",
    "\n",
    "    fig.suptitle('WASP-2: Radial Velocity Curve Fit Residuals')\n",
    "    ax1.errorbar(xdata1, ydata1, yerr=vel_err_wasp, fmt='o', ms=7.5, ecolor='k', marker='x', mew=1.5)\n",
    "    ax1.axhline(y=0, color='darkorange')\n",
    "    ax1.set_ylabel(\"Radial Velocity\" +'\\n' \"Residuals\")\n",
    "\n",
    "    ax2.errorbar(xdata2, ydata2, yerr=new_y_err, fmt='o', ms=7.5, ecolor='k', marker='x', mew=1.5)\n",
    "    ax2.axhline(y=0, color='darkorange')\n",
    "    ax2.set_xlabel(r\"Barycentric JD$ - 2450000.0$\")\n",
    "    ax2.set_ylabel(\"Radial Velocity\" +'\\n' \"Residuals\")\n",
    "\n",
    "    fig.tight_layout()\n",
    "#     plt.savefig('RV_residuals.png')\n",
    "    plt.show()"
   ]
  },
  {
   "cell_type": "code",
   "execution_count": 199,
   "metadata": {},
   "outputs": [],
   "source": [
    "\"\"\"\n",
    "Fitting the data and the photophase plot\n",
    "\"\"\"\n",
    "\n",
    "fit1, pcov1 = func_fitter(time_wasp, vel_wasp, vel_err_wasp, guess)\n",
    "fitx1 = np.linspace(time_wasp[0]-0.5, time_wasp[-1]+0.75, 10000) \n",
    "fity1 = my_sin(fitx1, *fit)\n",
    "\n",
    "params1, errors1 = radvelparams(fit, pcov)\n",
    "\n",
    "photophase = ((time_wasp - transit_time/2) % (params1[1]/(24*3600))) - (params1[1]/(24*3600))/2\n",
    "\n",
    "fit2, pcov2 = func_fitter(photophase, vel_wasp, vel_err_wasp, guess)\n",
    "fitx2 = np.linspace(-1.5, 1.5, 10000) \n",
    "fity2 = my_sin(fitx2, *fit2)\n",
    "\n",
    "params2, errors2 = radvelparams(fit2, pcov2)"
   ]
  },
  {
   "cell_type": "code",
   "execution_count": 200,
   "metadata": {},
   "outputs": [
    {
     "data": {
      "image/png": "[encoded data removed]",
      "text/plain": [
       "<Figure size 432x288 with 2 Axes>"
      ]
     },
     "metadata": {
      "needs_background": "light"
     },
     "output_type": "display_data"
    }
   ],
   "source": [
    "\"\"\"\n",
    "Plot the fitted curve for raw data and photometric phase plot\n",
    "\"\"\"\n",
    "plotting(fitx1, fitx2, fity1, fity2)"
   ]
  },
  {
   "cell_type": "code",
   "execution_count": 208,
   "metadata": {},
   "outputs": [
    {
     "name": "stdout",
     "output_type": "stream",
     "text": [
      "The reduced chi squared value for the original fit is: 1.5433422548104576\n",
      "The reduced chi squared value for the photophase fit is: 4.4633400448587635\n"
     ]
    }
   ],
   "source": [
    "chi1, rchi1 = chisquared(fit1, time_wasp)\n",
    "chi2, rchi2 = chisquared(fit2, photophase)\n",
    "print(f\"The reduced chi squared value for the original fit is: {rchi1}\")\n",
    "print(f\"The reduced chi squared value for the photophase fit is: {rchi2}\")"
   ]
  },
  {
   "cell_type": "code",
   "execution_count": 205,
   "metadata": {},
   "outputs": [
    {
     "data": {
      "image/png": "[encoded data removed]",
      "text/plain": [
       "<Figure size 432x288 with 2 Axes>"
      ]
     },
     "metadata": {
      "needs_background": "light"
     },
     "output_type": "display_data"
    }
   ],
   "source": [
    "residuals = vel_wasp - my_sin(time_wasp, *fit1)\n",
    "new_x = np.delete(time_wasp, [0])\n",
    "new_y = np.delete(residuals, [0])\n",
    "new_y_err = np.delete(vel_err_wasp, [0])\n",
    "\n",
    "plotting_residuals(time_wasp, new_x, residuals, new_y)"
   ]
  }
 ],
 "metadata": {
  "kernelspec": {
   "display_name": "Python 3",
   "language": "python",
   "name": "python3"
  },
  "language_info": {
   "codemirror_mode": {
    "name": "ipython",
    "version": 3
   },
   "file_extension": ".py",
   "mimetype": "text/x-python",
   "name": "python",
   "nbconvert_exporter": "python",
   "pygments_lexer": "ipython3",
   "version": "3.8.5"
  }
 },
 "nbformat": 4,
 "nbformat_minor": 4
}
